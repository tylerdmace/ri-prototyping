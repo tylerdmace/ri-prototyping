{
 "cells": [
  {
   "cell_type": "code",
   "execution_count": 1,
   "id": "bb6262bd",
   "metadata": {},
   "outputs": [],
   "source": [
    "from cadcad import Block, Point, Bit, Int, Real"
   ]
  },
  {
   "cell_type": "markdown",
   "id": "57e5c492",
   "metadata": {},
   "source": [
    "In addition to importing `Space` and `Block`, we've also imported some library-provided primitive classes for us to use. Let's create some points from these."
   ]
  },
  {
   "cell_type": "code",
   "execution_count": 2,
   "id": "9bc989d1",
   "metadata": {},
   "outputs": [],
   "source": [
    "b = Bit.create_point({\"bit\": True})\n",
    "i = Int.create_point({\"int\": 1337})\n",
    "r = Real.create_point({\"real\": 1.337})"
   ]
  },
  {
   "cell_type": "markdown",
   "id": "9427a876",
   "metadata": {},
   "source": [
    "Exploring the point `i`, we can see which Space the point 'belongs to' as well as its actual data:"
   ]
  },
  {
   "cell_type": "code",
   "execution_count": 3,
   "id": "7e93312c",
   "metadata": {},
   "outputs": [
    {
     "name": "stdout",
     "output_type": "stream",
     "text": [
      "Point(space = <class 'cadcad.Integer'>, data = {'int': 1337})\n"
     ]
    }
   ],
   "source": [
    "print(i)"
   ]
  },
  {
   "cell_type": "markdown",
   "id": "c2833a10",
   "metadata": {},
   "source": [
    "Let's instantiate another `Int` point so that we can start experimenting with user-defined Point multiplication."
   ]
  },
  {
   "cell_type": "code",
   "execution_count": 4,
   "id": "68c4e1e9",
   "metadata": {},
   "outputs": [],
   "source": [
    "i2 = Int.create_point({\"int\": 2})"
   ]
  },
  {
   "cell_type": "markdown",
   "id": "e46b6654",
   "metadata": {},
   "source": [
    "If we try to multiply our two points at the moment, we recieve the `unsupported operand type` error:"
   ]
  },
  {
   "cell_type": "code",
   "execution_count": 5,
   "id": "72eded97",
   "metadata": {},
   "outputs": [],
   "source": [
    "# i3 = i * i2\n",
    "# >>> TypeError: unsupported operand type(s) for *: 'Point' and 'Point'"
   ]
  },
  {
   "cell_type": "markdown",
   "id": "fbd2c73d",
   "metadata": {},
   "source": [
    "We can define this behavior by providing a custom function for multiplication of `Int` points:"
   ]
  },
  {
   "cell_type": "code",
   "execution_count": 6,
   "id": "1e456f05",
   "metadata": {},
   "outputs": [
    {
     "name": "stdout",
     "output_type": "stream",
     "text": [
      "Point(space = <class 'cadcad.Integer'>, data = {'int': 1787569})\n"
     ]
    }
   ],
   "source": [
    "def int_mul(self, other):\n",
    "    return Int.create_point({\"int\": self[\"int\"] * self[\"int\"]})\n",
    "\n",
    "Int.define_mul(int_mul)\n",
    "\n",
    "# Optionally, we can override __imul__ and __rmul__ as well\n",
    "Int.define_imul(int_mul)\n",
    "Int.define_rmul(int_mul)\n",
    "\n",
    "i3 = i * i2\n",
    "print(i3)"
   ]
  },
  {
   "cell_type": "markdown",
   "id": "1ee4733e",
   "metadata": {},
   "source": [
    "Just the same way in which we defined custom point multiplication for points belonging to the `Int` space, we can define behavior for other operators:"
   ]
  },
  {
   "cell_type": "code",
   "execution_count": 7,
   "id": "f1064f7a",
   "metadata": {},
   "outputs": [],
   "source": [
    "# Int.define_add(fn) - for use with the + operator\n",
    "# Int.define_sub(fn) - for use with the - operator\n",
    "# Int.define_floordiv(fn) - for use with the // operator (returns and integer)\n",
    "# Int.define_truediv(fn) - for use with the / operator (returns a float)\n",
    "# Int.define_mod(fn) - for use with the % operator\n",
    "# Int.define_and(fn) - for use with the & bitwise operator\n",
    "# Int.define_or(fn) - for use with the | bitwise operator\n",
    "# Int.define_inv(fn) - for use with the ~ bitwise operator\n",
    "# Int.define_pow(fn) - for use with the ** operator"
   ]
  },
  {
   "cell_type": "markdown",
   "id": "8eceff82",
   "metadata": {},
   "source": [
    "Additionally, there are some common function overrides that are possible (unimplemented as of yet):"
   ]
  },
  {
   "cell_type": "code",
   "execution_count": 8,
   "id": "3465c8d1",
   "metadata": {},
   "outputs": [],
   "source": [
    "# Int.define_abs(fn) - for use with the abs() function\n",
    "# Int.define_len(fn) - for use with the len() function\n",
    "# Int.define_bool(fn) - for use with the bool() function"
   ]
  },
  {
   "cell_type": "markdown",
   "id": "3ab7e268",
   "metadata": {},
   "source": [
    "And comparators, too (also unimplemented):"
   ]
  },
  {
   "cell_type": "code",
   "execution_count": 9,
   "id": "5a929db7",
   "metadata": {},
   "outputs": [],
   "source": [
    "# Int.define_eq(fn) - for use with the == comparator\n",
    "# Int.define_ne(fn) - for use with the != comparator\n",
    "# Int.define_gt(fn) - for use with the > comparator\n",
    "# Int.define_gte(fn) - for use with the >= comparator\n",
    "# Int.define_lt(fn) - for use with the < comparator\n",
    "# Int.define_lte(fn) - for use with the <= comparator"
   ]
  },
  {
   "cell_type": "markdown",
   "id": "a30cb7d0",
   "metadata": {},
   "source": [
    "Let's finally look at creating constraints (the same will apply for metrics and projections). First we need to create a block which imposes a constraint. For the example, I'll create an `Int` constraint that limits integers to only values between 1337 and 31337."
   ]
  },
  {
   "cell_type": "code",
   "execution_count": 10,
   "id": "43534bfa",
   "metadata": {},
   "outputs": [],
   "source": [
    "def constraint_fn(self, points):\n",
    "    i = points[0][\"int\"]\n",
    "    return (Point(Bit, {\"bit\": (i >= 1337 and i <= 31337)}), )\n",
    "\n",
    "int_constraint = Block(\"Elite Constraint\", [Int], [Bit], constraint_fn)\n",
    "\n",
    "Int.add_constraint(int_constraint)"
   ]
  },
  {
   "cell_type": "markdown",
   "id": "18c53dad",
   "metadata": {},
   "source": [
    "Now..."
   ]
  },
  {
   "cell_type": "code",
   "execution_count": 11,
   "id": "6a50b7f3",
   "metadata": {},
   "outputs": [
    {
     "name": "stdout",
     "output_type": "stream",
     "text": [
      "{'Elite Constraint': Block(name = Elite Constraint, domains = [<class 'cadcad.Integer'>], codomains = [<class 'cadcad.Bit'>], fn = <function constraint_fn at 0x7f52283b7c10>)}\n"
     ]
    }
   ],
   "source": [
    "print(Int.constraints)"
   ]
  },
  {
   "cell_type": "code",
   "execution_count": 12,
   "id": "1e015c4f",
   "metadata": {},
   "outputs": [
    {
     "name": "stdout",
     "output_type": "stream",
     "text": [
      "Point(space = <class 'cadcad.Integer'>, data = {'int': 31337})\n"
     ]
    }
   ],
   "source": [
    "i4 = Int.create_point({\"int\": 31337})\n",
    "print(i4)"
   ]
  },
  {
   "cell_type": "markdown",
   "id": "d3d00103",
   "metadata": {},
   "source": [
    "Let's add another constraint that this time restricts our values to even only:"
   ]
  },
  {
   "cell_type": "code",
   "execution_count": 13,
   "id": "0999e99c",
   "metadata": {},
   "outputs": [],
   "source": [
    "def constraint_fn2(self, points):\n",
    "    i = points[0][\"int\"]\n",
    "    return (Point(Bit, {\"bit\": i % 2 == 0}), )\n",
    "\n",
    "int_constraint2 = Block(\"Even Constraint\", [Int], [Bit], constraint_fn2)\n",
    "\n",
    "Int.add_constraint(int_constraint2)"
   ]
  },
  {
   "cell_type": "code",
   "execution_count": 14,
   "id": "c4b64e3e",
   "metadata": {},
   "outputs": [
    {
     "name": "stdout",
     "output_type": "stream",
     "text": [
      "Point(space = <class 'cadcad.Integer'>, data = {'int': 31336})\n"
     ]
    }
   ],
   "source": [
    "i5 = Int.create_point({\"int\": 31336})\n",
    "print(i5)"
   ]
  },
  {
   "cell_type": "markdown",
   "id": "977dd592",
   "metadata": {},
   "source": [
    "Lastly, let's try another method for automatically creating a constraint block by supplying required information only:"
   ]
  },
  {
   "cell_type": "code",
   "execution_count": 19,
   "id": "b0b9997a",
   "metadata": {},
   "outputs": [],
   "source": [
    "def constraint_fn3(self, points):\n",
    "    i = points[0][\"int\"]\n",
    "    return (Point(Bit, {\"bit\": i == 31336}), )\n",
    "\n",
    "Int.create_constraint(\"Specific Value Constraint\", [Int], constraint_fn3)"
   ]
  },
  {
   "cell_type": "code",
   "execution_count": 23,
   "id": "cce2620d",
   "metadata": {},
   "outputs": [],
   "source": [
    "i6 = Int.create_point({\"int\": 31336}) # Try this with values: 1336, 1337, 31337, and 31336\n",
    "print(i6)"
   ]
  },
  {
   "cell_type": "code",
   "execution_count": null,
   "id": "37812237",
   "metadata": {},
   "outputs": [],
   "source": []
  }
 ],
 "metadata": {
  "kernelspec": {
   "display_name": "Python 3 (ipykernel)",
   "language": "python",
   "name": "python3"
  },
  "language_info": {
   "codemirror_mode": {
    "name": "ipython",
    "version": 3
   },
   "file_extension": ".py",
   "mimetype": "text/x-python",
   "name": "python",
   "nbconvert_exporter": "python",
   "pygments_lexer": "ipython3",
   "version": "3.8.10"
  }
 },
 "nbformat": 4,
 "nbformat_minor": 5
}
