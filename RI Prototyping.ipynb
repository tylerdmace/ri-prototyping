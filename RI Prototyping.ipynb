{
 "cells": [
  {
   "cell_type": "code",
   "execution_count": 1,
   "id": "bb6262bd",
   "metadata": {},
   "outputs": [],
   "source": [
    "from cadcad.space import Space, Bit"
   ]
  },
  {
   "cell_type": "code",
   "execution_count": 5,
   "id": "9bc989d1",
   "metadata": {},
   "outputs": [
    {
     "name": "stdout",
     "output_type": "stream",
     "text": [
      "<slot wrapper '__repr__' of 'object' objects>\n"
     ]
    }
   ],
   "source": [
    "print(Space.__repr__)"
   ]
  },
  {
   "cell_type": "code",
   "execution_count": null,
   "id": "59020048",
   "metadata": {},
   "outputs": [],
   "source": []
  }
 ],
 "metadata": {
  "kernelspec": {
   "display_name": "Python 3 (ipykernel)",
   "language": "python",
   "name": "python3"
  },
  "language_info": {
   "codemirror_mode": {
    "name": "ipython",
    "version": 3
   },
   "file_extension": ".py",
   "mimetype": "text/x-python",
   "name": "python",
   "nbconvert_exporter": "python",
   "pygments_lexer": "ipython3",
   "version": "3.8.10"
  }
 },
 "nbformat": 4,
 "nbformat_minor": 5
}
